{
 "cells": [
  {
   "cell_type": "code",
   "execution_count": 167,
   "metadata": {},
   "outputs": [],
   "source": [
    "from time import time\n",
    "import numpy as np\n",
    "from scipy.integrate import solve_ivp\n",
    "import matplotlib.pyplot as plt\n",
    "from chemreact import tools\n",
    "np.set_printoptions(precision=2, suppress=True)"
   ]
  },
  {
   "cell_type": "markdown",
   "metadata": {},
   "source": [
    "$$ \n",
    "\\frac{\\partial C}{\\partial t} = D \\frac{\\partial^2 C}{\\partial x^2} - u\\frac{\\partial C}{\\partial x} + r\n",
    "$$"
   ]
  },
  {
   "cell_type": "code",
   "execution_count": 6,
   "metadata": {},
   "outputs": [],
   "source": [
    "def PFR(t, y, u, D, c_in, dx):\n",
    "    \"\"\"\n",
    "    Differential equations for the PFR equations.\n",
    "\n",
    "    The ODEs are derived using the method of lines.\n",
    "    \"\"\"\n",
    "    # dydt is the return value of this function.\n",
    "    dydt = np.zeros_like(y)\n",
    "    y[0]=c_in\n",
    "    # Compute dy/dt.  The end points and the interior points\n",
    "    # are handled separately.\n",
    "    dydt[0] = - u*(-c_in+y[0])/dx# + D*(-2.0*c_in + 2.0*y[1]) / dx**2\n",
    "    #dydt[1:-1] = D*np.diff(y,2) / dx**2\n",
    "    dydt[1:] -= u*np.diff(y)/2/dx\n",
    "#     dydt -= u*np.gradient(y, edge_order=2)/2/dx\n",
    "#     dydt[2:-2] = -u*(-y[4:]+8*y[3:-1]-8*y[1:-3]+y[:-4])/12/dx\n",
    "#     dydt[1:-1] -= u*(y[2:]-y[:-2])/dx\n",
    "#     dydt[-1]   -= u*(-y[-2]+y[-1])/dx #+ 2.0*D*(- y[-1] + y[-2]) / dx**2# - u*(-y[-1]+y[-2])/dx\n",
    "    \n",
    "    return dydt"
   ]
  },
  {
   "cell_type": "code",
   "execution_count": 440,
   "metadata": {},
   "outputs": [],
   "source": [
    "def PFR_fwd(t, y, u, D, c_in, dx):\n",
    "    dydt = np.zeros_like(y)\n",
    "#     y[0]=c_in(t)\n",
    "    dydt[0] = - u*(-c_in(t)+y[0])/dx# + D*(-2.0*c_in + 2.0*y[1]) / dx**2\n",
    "#     dydt[0] = -u*(-y[0]+y[1])\n",
    "    dydt[1:] -= u*np.diff(y)/dx\n",
    "    \n",
    "    return dydt"
   ]
  },
  {
   "cell_type": "code",
   "execution_count": 389,
   "metadata": {},
   "outputs": [],
   "source": [
    "def PFR_fwd2(t, y, u, D, c_in, dx):\n",
    "    dydt = np.zeros_like(y)\n",
    "#     y[0]=c_in\n",
    "    dydt[0] = - u*(-c_in(t)+y[0])/dx# + D*(-2.0*c_in + 2.0*y[1]) / dx**2\n",
    "    dydt[1:2] -= u*np.diff(y[0:2])/dx\n",
    "    dydt[-2:-1] -= u*np.diff(y[-3:-1])/dx\n",
    "    dydt[2:-2] = -u*(-y[4:]+6*y[3:-1]-3*y[2:-2]-2*y[1:-3])/6/dx\n",
    "    \n",
    "    return dydt"
   ]
  },
  {
   "cell_type": "code",
   "execution_count": 422,
   "metadata": {},
   "outputs": [],
   "source": [
    "def PFR_cntr(t, y, u, D, c_in, dx):\n",
    "#     y[0] = c_in(t)\n",
    "    dydt = np.zeros_like(y)\n",
    "    dydt -= u*np.gradient(y, edge_order=1)/dx\n",
    "#     dydt[0] = - u*(-c_in(t)+y[0])/dx\n",
    "    return dydt"
   ]
  },
  {
   "cell_type": "code",
   "execution_count": 10,
   "metadata": {},
   "outputs": [],
   "source": [
    "def PFR_cntr2(t, y, u, D, c_in, dx):\n",
    "    dydt = np.zeros_like(y)\n",
    "    dydt[0] = - u*(-c_in+y[0])/dx\n",
    "    dydt -= u*np.gradient(y, edge_order=1)/2/dx\n",
    "    dydt[2:-2] = -u*(-y[4:]+8*y[3:-1]-8*y[1:-3]+y[:-4])/12/dx/2\n",
    "    return dydt"
   ]
  },
  {
   "cell_type": "code",
   "execution_count": 11,
   "metadata": {},
   "outputs": [],
   "source": [
    "def PFR_cntr3(t, y, u, D, c_in, dx):\n",
    "    dydt = np.zeros_like(y)\n",
    "    dydt[0] = - u*(-c_in+y[0])/dx\n",
    "    dydt -= u*np.gradient(y, edge_order=1)/2/dx\n",
    "    dydt[2:] -= u*np.diff(y,2)*dx/2\n",
    "    return dydt"
   ]
  },
  {
   "cell_type": "code",
   "execution_count": 563,
   "metadata": {},
   "outputs": [],
   "source": [
    "def PFR_matrix(t, y, u, D, c_in, dx, diag):\n",
    "    y[0]=c_in(t)\n",
    "    dydt = d_dx(-u*y)\n",
    "#     dydt = -u*np.dot(diag,y)/dx\n",
    "#     dydt = np.convolve(y,(-1,0,1),'same')/dx\n",
    "#     dydt[0] += - u*(-c_in(t))/2/dx\n",
    "#     dydt[-1] += - u*(+y[-1])/2/dx\n",
    "    return dydt"
   ]
  },
  {
   "cell_type": "code",
   "execution_count": 564,
   "metadata": {},
   "outputs": [],
   "source": [
    "N = 50\n",
    "x = np.linspace(0,1, num=N+1)\n",
    "diag = np.diag(np.zeros_like(x, dtype=int)) \\\n",
    "    + 0.5*np.diag(np.ones_like(x[1:], dtype=int),k=1) \\\n",
    "    - 0.5*np.diag(np.ones_like(x[1:], dtype=int),k=-1)\n",
    "#     + 45*np.diag(np.ones_like(x[1:], dtype=int),k=1) \\\n",
    "#     - 45*np.diag(np.ones_like(x[1:], dtype=int),k=-1) \\\n",
    "#     - 9*np.diag(np.ones_like(x[2:], dtype=int),k=2) \\\n",
    "#     + 9*np.diag(np.ones_like(x[2:], dtype=int),k=-2) \\\n",
    "#     + np.diag(np.ones_like(x[3:], dtype=int),k=3) \\\n",
    "#     - np.diag(np.ones_like(x[3:], dtype=int),k=-3)\n",
    "\n",
    "# diag = diag.astype('float64')/60\n",
    "cntr = {0:(-1,1),\n",
    "        1:(-1/2,0,1/2),\n",
    "        2:(1/12,-2/3,0,2/3,-1/12),\n",
    "        3:(-1/60,3/20,-3/4,0,3/4,-3/20,1/60)\n",
    "       }\n",
    "# for i in cntr:\n",
    "#     diag[i,:]= 0\n",
    "#     diag[i,0:len(cntr[i])] += np.array(cntr[i])\n",
    "#     diag[-(i+1),:]= 0\n",
    "#     diag[-(i+1),-len(cntr[i]):] += np.array(cntr[i])\n",
    "    \n",
    "y0 = np.zeros_like(x)\n",
    "y0[0]=1\n",
    "# y0= np.exp(-x**2+x)-1\n",
    "# y0 = np.random.randn(5000)\n",
    "t = np.linspace(0, 50, 50)\n",
    "u = 0.1\n",
    "D = 0.0\n",
    "c_in = tools.rect(t0=-1, t1=1000)\n",
    "c_in = c_in[0]\n",
    "dx = 1/N\n",
    "d_dx = FinDiff(0,dx,1, acc=1)"
   ]
  },
  {
   "cell_type": "code",
   "execution_count": 565,
   "metadata": {},
   "outputs": [
    {
     "name": "stdout",
     "output_type": "stream",
     "text": [
      "1.657165765762329\n"
     ]
    }
   ],
   "source": [
    "time0= time()\n",
    "solutions = dict()\n",
    "# solutions['fwd'] = solve_ivp(lambda t,y: PFR_fwd(t,y,u,D,c_in,dx), (0,t[-1]), y0, t_eval=t, method='BDF')#, rtol=1e-1, atol=1e-2)\n",
    "# solutions['fwd2'] = solve_ivp(lambda t,y: PFR_fwd2(t,y,u,D,c_in,dx), (0,t[-1]), y0, t_eval=t, method='BDF')#, rtol=1e-1, atol=1e-2)\n",
    "# solutions['cntr'] = solve_ivp(lambda t,y: PFR_cntr(t,y,u,D,c_in,dx), (0,t[-1]), y0, t_eval=t, method='BDF', rtol=1e-6, atol=1e-9)\n",
    "# solutions['cntr2'] = solve_ivp(lambda t,y: PFR_cntr2(t,y,u,D,c_in,dx), (0,t[-1]), y0, t_eval=t, method='BDF', rtol=1e-1, atol=1e-2)\n",
    "solutions['matrix'] = solve_ivp(lambda t,y: PFR_matrix(t,y,u,D,c_in,dx, diag), (0,t[-1]), y0, method='BDF', rtol=1e-5, atol=1e-5)\n",
    "print(time()-time0)"
   ]
  },
  {
   "cell_type": "code",
   "execution_count": 566,
   "metadata": {},
   "outputs": [
    {
     "data": {
      "application/vnd.jupyter.widget-view+json": {
       "model_id": "05cb9dca7a3240a8aca89377b2e365a5",
       "version_major": 2,
       "version_minor": 0
      },
      "text/plain": [
       "interactive(children=(IntSlider(value=321, description='t', max=643), Output()), _dom_classes=('widget-interac…"
      ]
     },
     "metadata": {},
     "output_type": "display_data"
    }
   ],
   "source": [
    "from ipywidgets import interact, widgets\n",
    "t = solutions['matrix'].t\n",
    "@interact\n",
    "def f(t=(0, len(t)-1)):\n",
    "    for solution in solutions:\n",
    "        sol = solutions[solution]\n",
    "        y = sol.y[:,t]\n",
    "        plt.plot(x,y, label=solution)\n",
    "#         plt.plot(x[1:],np.diff(y))\n",
    "#         plt.plot(x,np.gradient(y))\n",
    "#         plt.plot(x[2:-2], (y[3:]-y[:-3])/2)\n",
    "        plt.title(f'time_g={sol.t[t]:.5f}')\n",
    "#         plt.ylim((-0.1,0.5))\n",
    "        plt.legend()"
   ]
  },
  {
   "cell_type": "code",
   "execution_count": null,
   "metadata": {},
   "outputs": [],
   "source": [
    "cntr = {0:(-1,1),\n",
    "        1:(-1/2,0,1/2),\n",
    "        2:(1/12,-2/3,0,2/3,-1/12),\n",
    "        3:(-1/60,3/20,-3/4,0,3/4,-3/20,1/60)\n",
    "       }"
   ]
  },
  {
   "cell_type": "code",
   "execution_count": 288,
   "metadata": {},
   "outputs": [
    {
     "name": "stdout",
     "output_type": "stream",
     "text": [
      "[1.]\n",
      "[0.  0.5]\n",
      "[-0.67  0.    0.67 -0.08]\n",
      "[ 0.15 -0.75  0.    0.75 -0.15  0.02]\n"
     ]
    }
   ],
   "source": [
    "diag = diag.astype('float64')/60\n",
    "for i in cntr:\n",
    "    diag[i,:]= 0\n",
    "    diag[i,0:len(cntr[i])] += np.array(cntr[i])\n",
    "    diag[-(i+1),:]= 0\n",
    "    diag[-(i+1),-len(cntr[i]):] += np.array(cntr[i])\n",
    "    print(diag[-(i+1),-len(cntr[i])+1:])"
   ]
  },
  {
   "cell_type": "code",
   "execution_count": 289,
   "metadata": {},
   "outputs": [
    {
     "name": "stdout",
     "output_type": "stream",
     "text": [
      "[[-2.08  4.   -3.   ...  0.    0.    0.  ]\n",
      " [-0.5   0.    0.5  ...  0.    0.    0.  ]\n",
      " [ 0.08 -0.67  0.   ...  0.    0.    0.  ]\n",
      " ...\n",
      " [ 0.    0.    0.   ...  0.    0.67 -0.08]\n",
      " [ 0.    0.    0.   ... -0.5   0.    0.5 ]\n",
      " [ 0.    0.    0.   ...  3.   -4.    2.08]]\n"
     ]
    }
   ],
   "source": [
    "diag[0,:5] = np.array([-1/4,4/3,-3,4,-25/12])[::-1]\n",
    "diag[-1,-5:] = -np.array([-1/4,4/3,-3,4,-25/12])\n",
    "print(diag)"
   ]
  },
  {
   "cell_type": "code",
   "execution_count": 457,
   "metadata": {},
   "outputs": [
    {
     "name": "stdout",
     "output_type": "stream",
     "text": [
      "[[ 0.   0.5  0.  ...  0.   0.   0. ]\n",
      " [-0.5  0.   0.5 ...  0.   0.   0. ]\n",
      " [ 0.  -0.5  0.  ...  0.   0.   0. ]\n",
      " ...\n",
      " [ 0.   0.   0.  ...  0.   0.5  0. ]\n",
      " [ 0.   0.   0.  ... -0.5  0.   0.5]\n",
      " [ 0.   0.   0.  ...  0.  -0.5  0. ]]\n"
     ]
    }
   ],
   "source": [
    "print(diag)"
   ]
  },
  {
   "cell_type": "code",
   "execution_count": null,
   "metadata": {},
   "outputs": [],
   "source": [
    "print(diag/60)\n",
    "diag@range(11)"
   ]
  },
  {
   "cell_type": "code",
   "execution_count": 1491,
   "metadata": {},
   "outputs": [
    {
     "name": "stdout",
     "output_type": "stream",
     "text": [
      "[ 0  1  2  3  4  5  6  7  8  9 10]\n",
      "[3 4 5 6 7]\n"
     ]
    },
    {
     "data": {
      "text/plain": [
       "array([ 0.,  0.,  0.,  0.,  1.,  2.,  3.,  4.,  5.,  6.,  7.,  8.,  9.,\n",
       "       10.,  0.,  0.,  0.])"
      ]
     },
     "execution_count": 1491,
     "metadata": {},
     "output_type": "execute_result"
    }
   ],
   "source": [
    "y=np.arange(11)\n",
    "print(y)\n",
    "print(y[3:-3])\n",
    "y2 = np.zeros(len(y)+6)\n",
    "y2[3:-3]+=y\n",
    "y2"
   ]
  },
  {
   "cell_type": "code",
   "execution_count": 700,
   "metadata": {},
   "outputs": [
    {
     "name": "stdout",
     "output_type": "stream",
     "text": [
      "[3 4 5 6 7 8]\n",
      "[1 2 3 4 5 6]\n",
      "[-2 -2 -2 -2 -2 -2]\n",
      "6 6\n"
     ]
    }
   ],
   "source": [
    "y2 = y[3:-1]\n",
    "y3 = y[1:-3]\n",
    "print(y2)\n",
    "print(y3)\n",
    "print(y3-y2)\n",
    "print(len(y[n:-n]), len(y2))"
   ]
  },
  {
   "cell_type": "code",
   "execution_count": 813,
   "metadata": {},
   "outputs": [
    {
     "name": "stdout",
     "output_type": "stream",
     "text": [
      "[0 0 0 0 0 0 0 0 0 0]\n",
      "[1 1 1 1 1 1 1 1 1 1]\n"
     ]
    }
   ],
   "source": [
    "print(np.zeros_like(y))\n",
    "print(np.ones_like(y))"
   ]
  },
  {
   "cell_type": "code",
   "execution_count": 879,
   "metadata": {},
   "outputs": [
    {
     "name": "stdout",
     "output_type": "stream",
     "text": [
      "[[ 0  8 -1  0  0  0  0  0  0  0]\n",
      " [-8  0  8 -1  0  0  0  0  0  0]\n",
      " [ 1 -8  0  8 -1  0  0  0  0  0]\n",
      " [ 0  1 -8  0  8 -1  0  0  0  0]\n",
      " [ 0  0  1 -8  0  8 -1  0  0  0]\n",
      " [ 0  0  0  1 -8  0  8 -1  0  0]\n",
      " [ 0  0  0  0  1 -8  0  8 -1  0]\n",
      " [ 0  0  0  0  0  1 -8  0  8 -1]\n",
      " [ 0  0  0  0  0  0  1 -8  0  8]\n",
      " [ 0  0  0  0  0  0  0  1 -8  0]]\n"
     ]
    }
   ],
   "source": [
    "diag = np.diag(np.zeros_like(y)) \\\n",
    "    - np.diag(np.ones_like(y[2:]),k=2) \\\n",
    "    + np.diag(np.ones_like(y[2:]),k=-2) \\\n",
    "    + 8 * np.diag(np.ones_like(y[1:]),k=1) \\\n",
    "    - 8 * np.diag(np.ones_like(y[1:]),k=-1) \\\n",
    "    \n",
    "print(diag)"
   ]
  },
  {
   "cell_type": "code",
   "execution_count": 1206,
   "metadata": {},
   "outputs": [
    {
     "data": {
      "text/plain": [
       "3"
      ]
     },
     "execution_count": 1206,
     "metadata": {},
     "output_type": "execute_result"
    }
   ],
   "source": [
    "for i in "
   ]
  },
  {
   "cell_type": "code",
   "execution_count": 1205,
   "metadata": {},
   "outputs": [
    {
     "data": {
      "text/plain": [
       "array([[10, 10, 10, 10, 10, 10, 10, 10, 10, 10, 10],\n",
       "       [10, 10, 10, 10, 10, 10, 10, 10, 10, 10, 10],\n",
       "       [10, 10, 10, 10, 10, 10, 10, 10, 10, 10, 10],\n",
       "       [10, 10, 10, 10, 10, 10, 10, 10, 10, 10, 10],\n",
       "       [10, 10, 10, 10, 10, 10, 10, 10, 10, 10, 10],\n",
       "       [10, 10, 10, 10, 10, 10, 10, 10, 10, 10, 10],\n",
       "       [10, 10, 10, 10, 10, 10, 10, 10, 10, 10, 10],\n",
       "       [10, 10, 10, 10, 10, 10, 10, 10, 10, 10, 10],\n",
       "       [10, 10, 10, 10, 10, 10, 10, 10, 10, 10, 10],\n",
       "       [10, 10, 10, 10, 10, 10, 10, 10, 10, 10, 10],\n",
       "       [10, 10, 10, 10, 10, 10, 10, 10, 10, 10, 10]])"
      ]
     },
     "execution_count": 1205,
     "metadata": {},
     "output_type": "execute_result"
    }
   ],
   "source": [
    "diag"
   ]
  },
  {
   "cell_type": "code",
   "execution_count": 15,
   "metadata": {},
   "outputs": [],
   "source": [
    "from findiff import FinDiff, coefficients, Coefficient"
   ]
  },
  {
   "cell_type": "code",
   "execution_count": 35,
   "metadata": {},
   "outputs": [],
   "source": [
    "d_dx = FinDiff(0,dx,2)"
   ]
  },
  {
   "cell_type": "code",
   "execution_count": 36,
   "metadata": {},
   "outputs": [
    {
     "data": {
      "text/plain": [
       "array([20000., 20000., 20000., 20000., 20000., 20000., 20000., 20000.,\n",
       "       20000., 20000., 20000., 20000., 20000., 20000., 20000., 20000.,\n",
       "       20000., 20000., 20000., 20000.])"
      ]
     },
     "execution_count": 36,
     "metadata": {},
     "output_type": "execute_result"
    }
   ],
   "source": [
    "d_dx(np.arange(20,dtype='float')**2)"
   ]
  },
  {
   "cell_type": "code",
   "execution_count": 26,
   "metadata": {},
   "outputs": [
    {
     "data": {
      "text/plain": [
       "array([0., 1., 2., 3., 4., 5., 6., 7., 8., 9.])"
      ]
     },
     "execution_count": 26,
     "metadata": {},
     "output_type": "execute_result"
    }
   ],
   "source": [
    "np.arange(10,dtype='float')"
   ]
  },
  {
   "cell_type": "code",
   "execution_count": 106,
   "metadata": {},
   "outputs": [
    {
     "data": {
      "text/plain": [
       "[<matplotlib.lines.Line2D at 0x1b836278>]"
      ]
     },
     "execution_count": 106,
     "metadata": {},
     "output_type": "execute_result"
    },
    {
     "data": {
      "image/png": "[encoded data removed]",
      "text/plain": [
       "<Figure size 432x288 with 1 Axes>"
      ]
     },
     "metadata": {
      "needs_background": "light"
     },
     "output_type": "display_data"
    }
   ],
   "source": [
    "plt.plot(x, np.exp(-x**2+x)-1)"
   ]
  },
  {
   "cell_type": "code",
   "execution_count": null,
   "metadata": {},
   "outputs": [],
   "source": []
  }
 ],
 "metadata": {
  "kernelspec": {
   "display_name": "Python (other-env)",
   "language": "python",
   "name": "venv"
  },
  "language_info": {
   "codemirror_mode": {
    "name": "ipython",
    "version": 3
   },
   "file_extension": ".py",
   "mimetype": "text/x-python",
   "name": "python",
   "nbconvert_exporter": "python",
   "pygments_lexer": "ipython3",
   "version": "3.7.2"
  }
 },
 "nbformat": 4,
 "nbformat_minor": 2
}
