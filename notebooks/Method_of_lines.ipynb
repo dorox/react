{
 "cells": [
  {
   "cell_type": "code",
   "execution_count": 1,
   "metadata": {},
   "outputs": [],
   "source": [
    "from time import time\n",
    "import numpy as np\n",
    "from scipy.integrate import solve_ivp\n",
    "import matplotlib.pyplot as plt\n",
    "np.set_printoptions(precision=3)"
   ]
  },
  {
   "cell_type": "markdown",
   "metadata": {},
   "source": [
    "$$ \n",
    "\\frac{\\partial C}{\\partial t} = D \\frac{\\partial^2 C}{\\partial x^2} - u\\frac{\\partial C}{\\partial x} + r\n",
    "$$"
   ]
  },
  {
   "cell_type": "code",
   "execution_count": 376,
   "metadata": {},
   "outputs": [],
   "source": [
    "def PFR(t, y, u, D, c_in, dx):\n",
    "    \"\"\"\n",
    "    Differential equations for the PFR equations.\n",
    "\n",
    "    The ODEs are derived using the method of lines.\n",
    "    \"\"\"\n",
    "    # dydt is the return value of this function.\n",
    "    dydt = np.zeros_like(y)\n",
    "    #y[0]=c_in\n",
    "    # Compute dy/dt.  The end points and the interior points\n",
    "    # are handled separately.\n",
    "    dydt[0] = - u*(-c_in+y[0])/dx# + D*(-2.0*c_in + 2.0*y[1]) / dx**2\n",
    "    #dydt[1:-1] = D*np.diff(y,2) / dx**2\n",
    "#     dydt[1:] -= u*np.diff(y)/2/dx\n",
    "    dydt -= u*np.gradient(y, edge_order=2)/2/dx\n",
    "#     dydt[1:-1] -= u*(y[2:]-y[:-2])/dx\n",
    "#     dydt[-1]   -= u*(-y[-2]+y[-1])/dx #+ 2.0*D*(- y[-1] + y[-2]) / dx**2# - u*(-y[-1]+y[-2])/dx\n",
    "    \n",
    "    return dydt"
   ]
  },
  {
   "cell_type": "code",
   "execution_count": 383,
   "metadata": {},
   "outputs": [],
   "source": [
    "N = 100\n",
    "x = np.linspace(0,1, num=N+1)\n",
    "y0 = np.zeros_like(x)\n",
    "y0[0]=0\n",
    "# y0 = np.random.randn(5000)\n",
    "t = np.linspace(0, 50, 100)\n",
    "u = 0.1\n",
    "D = 0.0\n",
    "c_in = 1\n",
    "dx = 1/N"
   ]
  },
  {
   "cell_type": "code",
   "execution_count": 386,
   "metadata": {},
   "outputs": [
    {
     "name": "stdout",
     "output_type": "stream",
     "text": [
      "1.166116714477539\n"
     ]
    }
   ],
   "source": [
    "time0= time()\n",
    "sol = solve_ivp(lambda t,y: PFR(t,y,u,D,c_in,dx), (0,50), y0, method='BDF', rtol=1e-1, atol=1e-2)\n",
    "print(time()-time0)"
   ]
  },
  {
   "cell_type": "code",
   "execution_count": 387,
   "metadata": {},
   "outputs": [
    {
     "data": {
      "application/vnd.jupyter.widget-view+json": {
       "model_id": "243f630ce23b4d7680bb0e397e4a9130",
       "version_major": 2,
       "version_minor": 0
      },
      "text/plain": [
       "interactive(children=(IntSlider(value=143, description='t', max=287), Output()), _dom_classes=('widget-interac…"
      ]
     },
     "metadata": {},
     "output_type": "display_data"
    }
   ],
   "source": [
    "from ipywidgets import interact, widgets\n",
    "@interact\n",
    "def f(t=(0, len(sol.t)-1)):\n",
    "    y = sol.y[:,t]\n",
    "    plt.plot(x,y)\n",
    "    plt.plot(x[1:],np.diff(y))\n",
    "    plt.plot(x,np.gradient(y))\n",
    "#     plt.plot(x[2:-2], (y[3:]-y[:-3])/2)\n",
    "    plt.title(f'time_g={sol.t[t]:.5f}')\n",
    "    plt.ylim((-1,1.2))"
   ]
  },
  {
   "cell_type": "code",
   "execution_count": 256,
   "metadata": {},
   "outputs": [
    {
     "data": {
      "text/plain": [
       "[<matplotlib.lines.Line2D at 0x1ccd69e8>]"
      ]
     },
     "execution_count": 256,
     "metadata": {},
     "output_type": "execute_result"
    },
    {
     "data": {
      "image/png": "[encoded data removed]",
      "text/plain": [
       "<Figure size 432x288 with 1 Axes>"
      ]
     },
     "metadata": {
      "needs_background": "light"
     },
     "output_type": "display_data"
    }
   ],
   "source": [
    "y = sol.y[:,10]\n",
    "plt.plot(x,y)\n",
    "plt.plot(x[1:],np.diff(y))\n",
    "plt.plot(x,np.gradient(y))\n",
    "plt.plot(x[2:-2], y[4:]-y[:-4])"
   ]
  },
  {
   "cell_type": "code",
   "execution_count": 283,
   "metadata": {},
   "outputs": [
    {
     "name": "stdout",
     "output_type": "stream",
     "text": [
      "[ 0  1  4  9 16 25 36 49 64 81]\n",
      "[  -1    0    0    0    0    0    0 -100]\n"
     ]
    },
    {
     "data": {
      "text/plain": [
       "8"
      ]
     },
     "execution_count": 283,
     "metadata": {},
     "output_type": "execute_result"
    }
   ],
   "source": [
    "y=np.arange(10)**2\n",
    "print(y)\n",
    "y2 = np.diff(y,4, prepend=0, append=0)\n",
    "print(y2)\n",
    "len(y2)"
   ]
  },
  {
   "cell_type": "code",
   "execution_count": null,
   "metadata": {},
   "outputs": [],
   "source": []
  }
 ],
 "metadata": {
  "kernelspec": {
   "display_name": "Python (other-env)",
   "language": "python",
   "name": "venv"
  },
  "language_info": {
   "codemirror_mode": {
    "name": "ipython",
    "version": 3
   },
   "file_extension": ".py",
   "mimetype": "text/x-python",
   "name": "python",
   "nbconvert_exporter": "python",
   "pygments_lexer": "ipython3",
   "version": "3.7.2"
  }
 },
 "nbformat": 4,
 "nbformat_minor": 2
}
